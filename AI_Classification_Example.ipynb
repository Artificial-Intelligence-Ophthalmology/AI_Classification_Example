{
  "nbformat": 4,
  "nbformat_minor": 0,
  "metadata": {
    "colab": {
      "name": "AI_Classification_Example.ipynb",
      "provenance": []
    },
    "kernelspec": {
      "name": "python3",
      "display_name": "Python 3"
    },
    "language_info": {
      "name": "python"
    },
    "accelerator": "GPU"
  },
  "cells": [
    {
      "cell_type": "markdown",
      "source": [
        "# Mount Google Drive to Save Results (Optional)"
      ],
      "metadata": {
        "id": "cmZqaBon3uHx"
      }
    },
    {
      "cell_type": "code",
      "source": [
        "from google.colab import drive\n",
        "drive.mount('/content/gdrive')"
      ],
      "metadata": {
        "id": "0OvGS1Ed3te9"
      },
      "execution_count": null,
      "outputs": []
    },
    {
      "cell_type": "markdown",
      "source": [
        "# Download OCT Data from Public Database\n",
        "\n",
        "*Kermany, Daniel; Zhang, Kang; Goldbaum, Michael (2018), “Labeled Optical Coherence Tomography (OCT) and Chest X-Ray Images for Classification”, Mendeley Data, V2, doi: 10.17632/rscbjbr9sj.2*"
      ],
      "metadata": {
        "id": "Bmz6zO154Mze"
      }
    },
    {
      "cell_type": "code",
      "execution_count": null,
      "metadata": {
        "id": "bLeclsDNwFVn"
      },
      "outputs": [],
      "source": [
        "!wget https://data.mendeley.com/public-files/datasets/rscbjbr9sj/files/5699a1d8-d1b6-45db-bb92-b61051445347/file_downloaded"
      ]
    },
    {
      "cell_type": "markdown",
      "source": [
        "# Create a Temporary Folder and Extract Files"
      ],
      "metadata": {
        "id": "myvsiJyl4Xtl"
      }
    },
    {
      "cell_type": "code",
      "source": [
        "!mkdir \"temp\"\n",
        "!tar -xzvf \"file_downloaded\" -C \"temp/\""
      ],
      "metadata": {
        "id": "Hk0ulZ6oyY8R"
      },
      "execution_count": null,
      "outputs": []
    },
    {
      "cell_type": "markdown",
      "source": [
        "# Download Code from the Same Database and Extract Files"
      ],
      "metadata": {
        "id": "qV_cypOK4cB2"
      }
    },
    {
      "cell_type": "code",
      "source": [
        "!wget https://data.mendeley.com/public-files/datasets/rscbjbr9sj/files/4935bcd6-c7f7-4244-a119-baaf7175b2d8/file_downloaded\n",
        "!unzip \"file_downloaded.1\""
      ],
      "metadata": {
        "id": "E5D-Gzqly9Pf"
      },
      "execution_count": null,
      "outputs": []
    },
    {
      "cell_type": "markdown",
      "source": [
        "Set TensorFlow Version"
      ],
      "metadata": {
        "id": "vfW06-88CDZ0"
      }
    },
    {
      "cell_type": "code",
      "source": [
        "%tensorflow_version 1.14"
      ],
      "metadata": {
        "id": "TTATcTRn3ADC"
      },
      "execution_count": null,
      "outputs": []
    },
    {
      "cell_type": "markdown",
      "source": [
        "# Split the Data into Training, Testing, and Validation \n",
        "\n",
        "We are using only a small subsample of the data for this demonstration."
      ],
      "metadata": {
        "id": "vWVJACuo5Ba1"
      }
    },
    {
      "cell_type": "code",
      "source": [
        "!rm data -r\n",
        "import os\n",
        "import shutil\n",
        "\n",
        "for subfolder in ['CNV', 'DME', 'DRUSEN', 'NORMAL']:\n",
        "  source = 'temp/OCT2017/train/' + subfolder              \n",
        "  destination_test = 'data/OCT2017/test/' + subfolder                  \n",
        "  destination_val = 'data/OCT2017/val/' + subfolder              \n",
        "  destination_train = 'data/OCT2017/train/' + subfolder \n",
        "\n",
        "  os.makedirs(destination_test, exist_ok=True)\n",
        "  os.makedirs(destination_val, exist_ok=True)\n",
        "  os.makedirs(destination_train, exist_ok=True)      \n",
        "  folder = os.listdir(source)\n",
        "\n",
        "                          \n",
        "  for i in range(100):                 \n",
        "      file = folder[0]          \n",
        "      curr_file = source + '/' + file \n",
        "      shutil.copy(curr_file, destination_test) \n",
        "      folder.pop(0)\n",
        "  for j in range(100):                 \n",
        "      file = folder[0]          \n",
        "      curr_file = source + '/' + file \n",
        "      shutil.copy(curr_file, destination_val) \n",
        "      folder.pop(0) \n",
        "  for k in range(500):                 \n",
        "      file = folder[0]          \n",
        "      curr_file = source + '/' + file \n",
        "      shutil.copy(curr_file, destination_train) \n",
        "      folder.pop(0) \n"
      ],
      "metadata": {
        "id": "r-x27-l9z6ck"
      },
      "execution_count": null,
      "outputs": []
    },
    {
      "cell_type": "markdown",
      "source": [
        "# Train and Test the Data\n",
        "\n",
        "*Kermany, Daniel; Zhang, Kang; Goldbaum, Michael (2018), “Labeled Optical Coherence Tomography (OCT) and Chest X-Ray Images for Classification”, Mendeley Data, V2, doi: 10.17632/rscbjbr9sj.2*"
      ],
      "metadata": {
        "id": "EgeQByrTCS5s"
      }
    },
    {
      "cell_type": "code",
      "source": [
        "!python code/retrain.py --images data/OCT2017 --output_labels data/output_labels.txt --output_graph data/retrained_graph.pb --training_steps 500"
      ],
      "metadata": {
        "id": "Mx27Lba-2AnA"
      },
      "execution_count": null,
      "outputs": []
    }
  ]
}